{
 "cells": [
  {
   "cell_type": "markdown",
   "metadata": {},
   "source": [
    "# Introduction"
   ]
  },
  {
   "cell_type": "markdown",
   "metadata": {},
   "source": [
    "## What is Python?\n",
    "\n",
    "[Python](https://www.python.org/) is an interpreted, general purposed language that is designed in 1991. Python can be used for object oriented and functional programming. The language usage areas are tremendous. Some of them are, system programming, graphical user interfaces, game development, developing back-end, machine learning, visualizing data, media processing, scientific programming and many many more.\n",
    "\n",
    "Python have very readable and simple syntax to write code. Nowadays python frameworks and libraries are every where.\n",
    "\n",
    "There is only one drawback with python. That's runtime speed. But even this problem is almost solved by [PyPy](https://pypy.org/) project."
   ]
  },
  {
   "cell_type": "markdown",
   "metadata": {},
   "source": [
    "## What is PyCharm?\n",
    "\n",
    "As a developer we need an environment to code in it. The best environment that I found is [PyCharm](https://www.jetbrains.com/pycharm/), it has many features like auto-completion, debugging, version controller support, ... ."
   ]
  },
  {
   "cell_type": "markdown",
   "metadata": {},
   "source": [
    "## What is Jupyter?\n",
    "\n",
    "An integrated development environment like pycharm isn't exactly what need for most of this course. We are dealing with watching effects of each line of code we write. [Jupyter](https://jupyter.org/) is what we use here.\n",
    "\n",
    "Python is a scripting language. This is an advantage that we will get familiar through the course."
   ]
  },
  {
   "cell_type": "markdown",
   "metadata": {},
   "source": [
    "## Hello Python\n",
    "\n",
    "There is a tradition in learning programming languages, called _Hello World_ program. We are going to respect the traditions and do it."
   ]
  },
  {
   "cell_type": "code",
   "execution_count": 3,
   "metadata": {},
   "outputs": [
    {
     "name": "stdout",
     "output_type": "stream",
     "text": [
      "Hello World!\n"
     ]
    }
   ],
   "source": [
    "print('Hello World!')"
   ]
  },
  {
   "cell_type": "markdown",
   "metadata": {},
   "source": [
    "# PIP\n",
    "\n",
    "Python have libraries. `pip` is a program that can install and remove your packages. This a fast and safe way to get a python library for our projects."
   ]
  },
  {
   "cell_type": "markdown",
   "metadata": {},
   "source": [
    "## Virtualenv\n",
    "\n",
    "Consider situations like 2 projects with same dependencies of different versions. Like `pip`, `virtualenv`  helps you manage your packages but in different way."
   ]
  },
  {
   "cell_type": "markdown",
   "metadata": {},
   "source": [
    "```bash\n",
    "$ virtualenv .venv           # Creating python virtual environment\n",
    "$ source .venv/bin/activate  # Activating virtual environment\n",
    "$ deactivate                 # Deactivating virtual environment\n",
    "```"
   ]
  },
  {
   "cell_type": "markdown",
   "metadata": {},
   "source": [
    "# Comments\n",
    "\n",
    "Sharp \\# and strings are your comments."
   ]
  },
  {
   "cell_type": "markdown",
   "metadata": {},
   "source": [
    "# PEP8\n",
    "\n",
    "Python enhancement proposal documents are about everything. New features, community input on an issue, ... . Probably the most famous and useful one for us, is PEP8.\n",
    "\n",
    "Development is not a single handed anymore. It's a social effort. Groups of many people try to write a code for a same software. PEP8 helps for readability of code.\n",
    "\n",
    "We talk about it during the course and mention what you need to know about it."
   ]
  },
  {
   "cell_type": "markdown",
   "metadata": {},
   "source": [
    "# Numbers and Mathematics"
   ]
  },
  {
   "cell_type": "markdown",
   "metadata": {},
   "source": [
    "## Integers\n",
    "\n",
    "Python support unlimited numbers. Your number can have millions of digits.\n",
    "\n",
    "`int()`"
   ]
  },
  {
   "cell_type": "markdown",
   "metadata": {},
   "source": [
    "### Booleans\n",
    "\n",
    "`False, True, bool()`"
   ]
  },
  {
   "cell_type": "markdown",
   "metadata": {},
   "source": [
    "## Reals"
   ]
  },
  {
   "cell_type": "markdown",
   "metadata": {},
   "source": [
    "### Floating Points\n",
    "\n",
    "IEEE 754, 32-bit, 64-bit."
   ]
  },
  {
   "cell_type": "markdown",
   "metadata": {},
   "source": [
    "## Fractions"
   ]
  },
  {
   "cell_type": "markdown",
   "metadata": {},
   "source": [
    "### Decimal"
   ]
  },
  {
   "cell_type": "markdown",
   "metadata": {},
   "source": [
    "## Complex"
   ]
  },
  {
   "cell_type": "markdown",
   "metadata": {},
   "source": [
    "## Arithmetics\n",
    "`=, +, -, *, /, //, **, %`"
   ]
  },
  {
   "cell_type": "markdown",
   "metadata": {},
   "source": [
    "# Variables and Naming"
   ]
  },
  {
   "cell_type": "markdown",
   "metadata": {},
   "source": [
    "## Mutable Vs. Immutable\n",
    "`id()`"
   ]
  },
  {
   "cell_type": "markdown",
   "metadata": {},
   "source": [
    "# Strings & Bytes"
   ]
  },
  {
   "cell_type": "markdown",
   "metadata": {},
   "source": [
    "## Escape Sequences"
   ]
  },
  {
   "cell_type": "markdown",
   "metadata": {},
   "source": [
    "## Input from user"
   ]
  },
  {
   "cell_type": "markdown",
   "metadata": {},
   "source": [
    "## Indexing and Slicing"
   ]
  },
  {
   "cell_type": "markdown",
   "metadata": {},
   "source": [
    "## `in` Operator"
   ]
  },
  {
   "cell_type": "markdown",
   "metadata": {},
   "source": [
    "# Functions\n",
    "\n",
    "Functions can make coding easy. Splitting tasks and write them once. Improve readability."
   ]
  },
  {
   "cell_type": "markdown",
   "metadata": {},
   "source": [
    "## Don't Repeat Yourself (DRY)"
   ]
  },
  {
   "cell_type": "markdown",
   "metadata": {},
   "source": [
    "## Parameters\n",
    "* Passed by Reference (mutable) & Value (immutable)\n",
    "* Positional argument\n",
    "* Keyword argument\n",
    "* Default values (becareful with default mutables!)\n",
    "* Variable positional arguments\n",
    "* Variable keyword arguments\n",
    "* Keyword only arguments"
   ]
  },
  {
   "cell_type": "markdown",
   "metadata": {},
   "source": [
    "## Return"
   ]
  },
  {
   "cell_type": "markdown",
   "metadata": {},
   "source": [
    "## Scope\n",
    "\n",
    "`if`, `elif`, `else`, `for`, `while` is current scope.\n",
    "Function are new scope."
   ]
  },
  {
   "cell_type": "markdown",
   "metadata": {},
   "source": [
    "## Documentation\n",
    "\n",
    "PEP257 - Docstring conventions. Sphinx is use to generate python documentation."
   ]
  },
  {
   "cell_type": "markdown",
   "metadata": {},
   "source": [
    "## global & nonlocal"
   ]
  },
  {
   "cell_type": "markdown",
   "metadata": {},
   "source": [
    "## lambda"
   ]
  },
  {
   "cell_type": "markdown",
   "metadata": {},
   "source": [
    "## pass"
   ]
  },
  {
   "cell_type": "markdown",
   "metadata": {},
   "source": [
    "## Recursive Functions\n",
    "\n",
    "```python\n",
    "def factorial(n):\n",
    "    if n == 0:\n",
    "        return 1\n",
    "    return factorial(n - 1) * n\n",
    "```"
   ]
  },
  {
   "cell_type": "markdown",
   "metadata": {},
   "source": [
    "## Useful Tips\n",
    "* Functions should do one thing.\n",
    "* Functions should be small.\n",
    "* The fewer input parameters, the better.\n",
    "* Functions should be consistent in their return values.\n",
    "Functions shouldn't have side effects.\n",
    "\n",
    "9. Decision Making\n",
    "    1. if, elif, else\n",
    "    2. <, <=, >, >=, ==, !=\n",
    "    2. VALUE_1 if CONDITION else VALUE_2\n",
    "    3. Use `is` and `is not` instead of `==` for `True` and `False` comparison.\n",
    "    2. True, False, and, or, not\n",
    "        1. Use `is` for readability\n",
    "    3. Binary operators\n",
    "10. Loops\n",
    "    1. for\n",
    "        1. `range`\n",
    "    2. while\n",
    "    3. break\n",
    "    4. continue\n",
    "    5. Comprehensions\n",
    "    5. `__iter__()` and `__next__()` with `StopIteration` exception\n",
    "    6. `zip()`\n",
    "    7. `map()`\n",
    "    8. `filter()`"
   ]
  },
  {
   "cell_type": "markdown",
   "metadata": {},
   "source": [
    "# Lists\n",
    "`append`, `del`, `len()`"
   ]
  },
  {
   "cell_type": "markdown",
   "metadata": {},
   "source": [
    "## Packing & Unpacking"
   ]
  },
  {
   "cell_type": "markdown",
   "metadata": {},
   "source": [
    "# Tuples\n",
    "\n",
    "Frozen Lists."
   ]
  },
  {
   "cell_type": "markdown",
   "metadata": {},
   "source": [
    "# Dictionaries"
   ]
  },
  {
   "cell_type": "markdown",
   "metadata": {},
   "source": [
    "## Comprehensions"
   ]
  },
  {
   "cell_type": "markdown",
   "metadata": {},
   "source": [
    "# Set"
   ]
  },
  {
   "cell_type": "markdown",
   "metadata": {},
   "source": [
    "## Comprehensions"
   ]
  },
  {
   "cell_type": "markdown",
   "metadata": {},
   "source": [
    "# Files\n",
    "    1. Reading\n",
    "    2. Writing\n",
    "    3. Appending\n",
    "    4. Binary mode\n",
    "    5. General Strings\n",
    "10. Modules and Packages\n",
    "    1. Don't Repeat Yourself (DRY)\n",
    "    1. Importing other modules\n",
    "    2. Creating other modules\n",
    "10. Exceptions\n",
    "    1. raise\n",
    "    1. try\n",
    "    1. except\n",
    "    1. finally\n",
    "    4. assert"
   ]
  },
  {
   "cell_type": "markdown",
   "metadata": {},
   "source": [
    "# Object Oriented Programming\n",
    "\n",
    "Good for easy code designing, reusability and readability.\n",
    "\n",
    "Concepts:\n",
    "* Objects\n",
    "    * State\n",
    "    * Behavior\n",
    "* Class\n",
    "    * Attributes\n",
    "    * Methods\n",
    "* Instances\n",
    "\n",
    "Simplest python class:  "
   ]
  },
  {
   "cell_type": "code",
   "execution_count": 2,
   "metadata": {
    "collapsed": true
   },
   "outputs": [],
   "source": [
    "# A Class (code blueprints) that represent an Object (real world concepts).\n",
    "class simple:\n",
    "    pass\n",
    "\n",
    "# Creating an Instance of the object.\n",
    "simple_var = simple()"
   ]
  },
  {
   "cell_type": "markdown",
   "metadata": {},
   "source": [
    "## Class Attributes"
   ]
  },
  {
   "cell_type": "code",
   "execution_count": 5,
   "metadata": {},
   "outputs": [
    {
     "name": "stdout",
     "output_type": "stream",
     "text": [
      "4\n"
     ]
    }
   ],
   "source": [
    "class Car:\n",
    "    number_of_wheels = 4\n",
    "\n",
    "# It's defined withing the structures of our class.\n",
    "print(Car.number_of_wheels)"
   ]
  },
  {
   "cell_type": "code",
   "execution_count": 6,
   "metadata": {},
   "outputs": [
    {
     "name": "stdout",
     "output_type": "stream",
     "text": [
      "4\n"
     ]
    }
   ],
   "source": [
    "# Each instance can see it from the class.\n",
    "simple_car = Car()\n",
    "print(simple_car.number_of_wheels)"
   ]
  },
  {
   "cell_type": "code",
   "execution_count": 7,
   "metadata": {},
   "outputs": [
    {
     "name": "stdout",
     "output_type": "stream",
     "text": [
      "3\n",
      "3\n"
     ]
    }
   ],
   "source": [
    "# Class attributes updates through all instances.\n",
    "Car.number_of_wheels = 3\n",
    "not_so_simple_car = Car()\n",
    "print(not_so_simple_car.number_of_wheels)\n",
    "print(simple_car.number_of_wheels)"
   ]
  },
  {
   "cell_type": "markdown",
   "metadata": {},
   "source": [
    "Class attribute can have shadows for each object instances."
   ]
  },
  {
   "cell_type": "code",
   "execution_count": 9,
   "metadata": {},
   "outputs": [
    {
     "name": "stdout",
     "output_type": "stream",
     "text": [
      "4\n",
      "18\n"
     ]
    }
   ],
   "source": [
    "class Car:\n",
    "    number_of_wheels = 4\n",
    "\n",
    "strange_car = Car()\n",
    "\n",
    "# Altering class attribute through instances make specific class attribute values for them.\n",
    "strange_car.number_of_wheels = 18\n",
    "print(Car.number_of_wheels)\n",
    "print(strange_car.number_of_wheels)"
   ]
  },
  {
   "cell_type": "code",
   "execution_count": 10,
   "metadata": {},
   "outputs": [
    {
     "name": "stdout",
     "output_type": "stream",
     "text": [
      "18\n"
     ]
    }
   ],
   "source": [
    "# But it will break updated through class structure.\n",
    "Car.number_of_wheels = 3\n",
    "print(strange_car.number_of_wheels)"
   ]
  },
  {
   "cell_type": "code",
   "execution_count": 11,
   "metadata": {},
   "outputs": [
    {
     "name": "stdout",
     "output_type": "stream",
     "text": [
      "3\n"
     ]
    }
   ],
   "source": [
    "# Don't panic, you can bind your instance to your class again.\n",
    "del strange_car.number_of_wheels\n",
    "print(strange_car.number_of_wheels)"
   ]
  },
  {
   "cell_type": "markdown",
   "metadata": {},
   "source": [
    "## Access to Instance\n",
    "\n",
    "Each method in a class have a default first argument that is not passed by what we code."
   ]
  },
  {
   "cell_type": "code",
   "execution_count": 13,
   "metadata": {},
   "outputs": [
    {
     "name": "stdout",
     "output_type": "stream",
     "text": [
      "David\n"
     ]
    }
   ],
   "source": [
    "class Person:\n",
    "    name = 'Nobody'\n",
    "    def print_name(self):\n",
    "        print(self.name)\n",
    "\n",
    "david = Person()\n",
    "david.name = 'David'\n",
    "david.print_name()"
   ]
  },
  {
   "cell_type": "markdown",
   "metadata": {},
   "source": [
    "Now that we can access instances, we can define instance attributes."
   ]
  },
  {
   "cell_type": "code",
   "execution_count": 16,
   "metadata": {},
   "outputs": [
    {
     "name": "stdout",
     "output_type": "stream",
     "text": [
      "('Bod', 1992)\n"
     ]
    }
   ],
   "source": [
    "class Person:\n",
    "    def set(self, name, age):\n",
    "        self.name = name\n",
    "        self.birth_year = 2017 - age\n",
    "    \n",
    "    def get(self):\n",
    "        return self.name, self.birth_year\n",
    "\n",
    "bob = Person()\n",
    "bob.set(name='Bod', age=25)\n",
    "print(bob.get())"
   ]
  },
  {
   "cell_type": "markdown",
   "metadata": {},
   "source": [
    "## Special Methods\n",
    "\n",
    "These methods have specific name and specific job. They have names that starts and ends with `__`\n",
    "\n",
    "When we are creating an instance, `__init__` is the very first method that get called automatically."
   ]
  },
  {
   "cell_type": "code",
   "execution_count": 21,
   "metadata": {},
   "outputs": [
    {
     "name": "stdout",
     "output_type": "stream",
     "text": [
      "('Alice', 21)\n"
     ]
    }
   ],
   "source": [
    "class Person:\n",
    "    def __init__(self, name, age):\n",
    "        self.name, self.age = name, age\n",
    "\n",
    "    def get(self):\n",
    "        return self.name, self.age\n",
    "\n",
    "alice = Person('Alice', 21)\n",
    "print(alice.get())"
   ]
  },
  {
   "cell_type": "markdown",
   "metadata": {},
   "source": [
    "You can find all information on special methods in [Here](http://www.diveintopython3.net/special-method-names.html)."
   ]
  },
  {
   "cell_type": "markdown",
   "metadata": {},
   "source": [
    "## Static Methods"
   ]
  },
  {
   "cell_type": "markdown",
   "metadata": {},
   "source": [
    "## Class Methods"
   ]
  },
  {
   "cell_type": "markdown",
   "metadata": {},
   "source": [
    "## Inheritance & Composition\n",
    "\n",
    "Main purpose of OOP is reusing existing codes. Inheritance (is-a relationship) and composition (has-a relationship) are\n",
    "two main ways to reuse code."
   ]
  },
  {
   "cell_type": "code",
   "execution_count": 1,
   "metadata": {},
   "outputs": [
    {
     "data": {
      "text/plain": [
       "'Engine started.'"
      ]
     },
     "execution_count": 1,
     "metadata": {},
     "output_type": "execute_result"
    }
   ],
   "source": [
    "class Engine:  # Base class, Parent class\n",
    "    def start(self):\n",
    "        return 'Engine started.'\n",
    "\n",
    "    def stop(self):\n",
    "        return 'Engine stopped.'\n",
    "\n",
    "class Car:\n",
    "    def __init__(self):\n",
    "        self.engine = Engine()  # Composition\n",
    "\n",
    "class MechanicalEngine(Engine):  # Inheritance\n",
    "    def __init__(self):\n",
    "        self.max_speed = 120\n",
    "\n",
    "# Above, Engine is called Parent, Base class and MechanicalEngine is called Child, Derived class.\n",
    "\n",
    "motorcycle_engine = MechanicalEngine()\n",
    "motorcycle_engine.start()  # MechanicalEngine class inherits attributes and methods of Engine class."
   ]
  },
  {
   "cell_type": "markdown",
   "metadata": {},
   "source": [
    "### Overwriting Methods\n",
    "\n",
    "If you overwrite a method of parent class, the functionality of that method from parent class is gone."
   ]
  },
  {
   "cell_type": "code",
   "execution_count": 29,
   "metadata": {},
   "outputs": [
    {
     "name": "stdout",
     "output_type": "stream",
     "text": [
      "Title: Alice in Wonderlang, Author: Lewis Carroll, Online ID: 1298\n"
     ]
    }
   ],
   "source": [
    "class Book:\n",
    "    def __init__(self, title, author):\n",
    "        self.title, self.author = title, author\n",
    "    \n",
    "    def get_info(self):\n",
    "        return \"Title: {}, Author: {}\".format(self.title, self.author)\n",
    "\n",
    "class EBook(Book):\n",
    "    def __init__(self, title, author, online_id):\n",
    "        # Not so good way! What if Book init changes? What if we didn't know Book init?\n",
    "        self.title, self.author, self.online_id = title, author, online_id\n",
    "\n",
    "        # Better solution BUT, what Book is not the only one we inherits? What if we\n",
    "        # wanted to change Book to Article?\n",
    "#         Book.__init__(self, title, author)\n",
    "#         self.online_id = online_id\n",
    "        \n",
    "        # Best solution!\n",
    "#         super().__init__(title, author)\n",
    "#         self.online_id = online_id\n",
    "    \n",
    "    def get_info(self):\n",
    "        book_info = super().get_info()\n",
    "        return \"{}, Online ID: {}\".format(book_info, self.online_id)\n",
    "\n",
    "alice_in_wonderland = EBook('Alice in Wonderlang', 'Lewis Carroll', 1298)\n",
    "print(alice_in_wonderland.get_info())"
   ]
  },
  {
   "cell_type": "markdown",
   "metadata": {},
   "source": [
    "### Multiple Inheritance & Method Resolution Order\n",
    "\n",
    "Put names, comma seperated, and know that order of them matters (diamond problem)!\n",
    "\n",
    "As the following code shows, MRO like our class then parents of our class then grandparents of out class and so on."
   ]
  },
  {
   "cell_type": "code",
   "execution_count": 35,
   "metadata": {},
   "outputs": [
    {
     "name": "stdout",
     "output_type": "stream",
     "text": [
      "Area of our square is: 100 and Tag is: Rhombus\n"
     ]
    }
   ],
   "source": [
    "import math\n",
    "\n",
    "class Shape:\n",
    "    tag = 'Shape'\n",
    "    \n",
    "    def area():\n",
    "        return 0\n",
    "\n",
    "class Rectangle(Shape):\n",
    "#     tag = 'Rectangle'\n",
    "    \n",
    "    def __init__(self, a, b):\n",
    "        self.a, self.b = a, b\n",
    "    \n",
    "    def area(self):\n",
    "        return self.a * self.b\n",
    "\n",
    "class Rhombus(Shape):\n",
    "    tag = 'Rhombus'\n",
    "    \n",
    "    def __init__(self, a, theta):\n",
    "        self.a, self.theta = a, theta\n",
    "    \n",
    "    def area(self):\n",
    "        return self.a * self.a * math.sin(self.theta)\n",
    "\n",
    "class Square(Rectangle, Rhombus):\n",
    "    def __init__(self, a):\n",
    "        # For Rectangle\n",
    "        super().__init__(a, a)\n",
    "        \n",
    "        # For Rhombus\n",
    "#         super().__init__(a, math.pi / 2)\n",
    "\n",
    "my_square = Square(10)\n",
    "print(\"Area of our square is: {} and Tag is: {}\".format(my_square.area(), my_square.tag))"
   ]
  },
  {
   "cell_type": "markdown",
   "metadata": {},
   "source": [
    "## Private and Public\n",
    "\n",
    "Each method or attribute of a class that starts with `__` is considered private and everything else is public. All\n",
    "special methods are private.\n",
    "\n",
    "* `super()`"
   ]
  },
  {
   "cell_type": "markdown",
   "metadata": {},
   "source": [
    "### Name Mangling"
   ]
  },
  {
   "cell_type": "markdown",
   "metadata": {},
   "source": [
    "## Useful Tips\n",
    "\n",
    "* Use `isinstance()` to find a varialble origins."
   ]
  },
  {
   "cell_type": "code",
   "execution_count": 32,
   "metadata": {},
   "outputs": [
    {
     "data": {
      "text/plain": [
       "True"
      ]
     },
     "execution_count": 32,
     "metadata": {},
     "output_type": "execute_result"
    }
   ],
   "source": [
    "isinstance(motorcycle_engine, MechanicalEngine)"
   ]
  },
  {
   "cell_type": "markdown",
   "metadata": {},
   "source": [
    "* Use `issubclass()` to find examine inheritance relation between to classes."
   ]
  },
  {
   "cell_type": "code",
   "execution_count": 29,
   "metadata": {},
   "outputs": [
    {
     "data": {
      "text/plain": [
       "(True, False)"
      ]
     },
     "execution_count": 29,
     "metadata": {},
     "output_type": "execute_result"
    }
   ],
   "source": [
    "issubclass(MechanicalEngine, Engine), issubclass(Engine, MechanicalEngine)"
   ]
  },
  {
   "cell_type": "markdown",
   "metadata": {},
   "source": [
    "# Generators\n",
    "\n",
    "* `yield`\n",
    "* `yeild from`"
   ]
  },
  {
   "cell_type": "markdown",
   "metadata": {},
   "source": [
    "# Decorators\n",
    "\n",
    "Example: Decorator to calculate up execution time."
   ]
  },
  {
   "cell_type": "markdown",
   "metadata": {},
   "source": [
    "## Decorator Factory\n",
    "\n",
    "Homeworks:\n",
    "* Describing what some codes do.\n",
    "\n",
    "Notes to talk:\n",
    "* Printing structures and customization.\n",
    "\n",
    "Examples:\n",
    "\n",
    "* Prime number function.\n",
    "* Prime number generator.\n",
    "* Fibonacci number recursive function.\n",
    "* Fibonacci number generator.\n",
    "* Web crawler."
   ]
  }
 ],
 "metadata": {
  "kernelspec": {
   "display_name": "Python 3",
   "language": "python",
   "name": "python3"
  },
  "language_info": {
   "codemirror_mode": {
    "name": "ipython",
    "version": 3
   },
   "file_extension": ".py",
   "mimetype": "text/x-python",
   "name": "python",
   "nbconvert_exporter": "python",
   "pygments_lexer": "ipython3",
   "version": "3.5.2"
  }
 },
 "nbformat": 4,
 "nbformat_minor": 2
}
