{
 "cells": [
  {
   "cell_type": "markdown",
   "metadata": {},
   "source": [
    "# Introduction"
   ]
  },
  {
   "cell_type": "markdown",
   "metadata": {},
   "source": [
    "## Basics\n",
    "\n",
    "* **Central Processing Unit**: Very very fast but simple calculator. It is always asking what to calculate next?\n",
    "* **Main Memory**: Very fast temporary storage that save all answer to CPU. Answers are actually code and data that help to shape the way CPU work with data.\n",
    "* **Input Devices**: Things that you give information to computer with them. Keyboard, Mouse, Touch Screen, Microphone, ... .\n",
    "* **Output Devices**: Things that computer give information to you with them. Screen, Speakers, Printer, ... .\n",
    "* **Secondary Memory**: If power goes down, main memory is erase immediately. That's where secondary memory walks in. It's stores huge data and won't lost them without power. Why we shouldn't use secondary memory instead of main memory? Because it is too slow!"
   ]
  },
  {
   "cell_type": "markdown",
   "metadata": {},
   "source": [
    "## Out Mind Vs. Computer Programs\n",
    "\n",
    "Read text below quickly:\n",
    "\n",
    "> پایتون یک زبان برنامه نویسی همه منظوره است. ساختار بسپار ساده و خوانای پایتون باعث محبوپیت سریع و استقاده ی همگانی آن در زمینه های مخنلف شده است.\n",
    "\n",
    "There are some mistakes in the text. Did you saw them? If yes, good for you! If no, that is the most important difference between a computer and a human brain. Human know how to solve problems but computers are just stupid fast and powerful calculators!\n",
    "\n",
    "You should remember this:\n",
    "\n",
    "> Every thing that computer is doing should be told to it. Computers doesn't have a brain, they are just very advanced calculators."
   ]
  },
  {
   "cell_type": "markdown",
   "metadata": {},
   "source": [
    "## What is Python?\n",
    "\n",
    "[Python](https://www.python.org/) is an interpreted, general purposed language that is designed in 1991 by Guido Van Rossum. Python can be used for object oriented and functional programming. The language usage areas are tremendous. Some of them are, system programming, graphical user interfaces, game development, developing back-end, machine learning, visualizing data, media processing, scientific programming and many many more.\n",
    "\n",
    "Python have very readable and simple syntax to write code. Nowadays python frameworks and libraries are every where.\n",
    "\n",
    "There is only one drawback with python. That's runtime speed. But even this problem is almost solved by [PyPy](https://pypy.org/) project."
   ]
  },
  {
   "cell_type": "markdown",
   "metadata": {},
   "source": [
    "## What is PyCharm?\n",
    "\n",
    "As a developer we need an environment to code in it. The best environment that I found is [PyCharm](https://www.jetbrains.com/pycharm/), it has many features like auto-completion, debugging, version controller support, ... ."
   ]
  },
  {
   "cell_type": "markdown",
   "metadata": {},
   "source": [
    "## What is Jupyter?\n",
    "\n",
    "An integrated development environment like pycharm isn't exactly what need for most of this course. We are dealing with watching effects of each line of code we write. [Jupyter](https://jupyter.org/) is what we use here.\n",
    "\n",
    "Python is a scripting language. This is an advantage that we will get familiar through the course."
   ]
  },
  {
   "cell_type": "markdown",
   "metadata": {},
   "source": [
    "## Hello Python\n",
    "\n",
    "There is a tradition in learning programming languages, called _Hello World_ program. We are going to respect the traditions and do it."
   ]
  },
  {
   "cell_type": "code",
   "execution_count": 1,
   "metadata": {},
   "outputs": [
    {
     "name": "stdout",
     "output_type": "stream",
     "text": [
      "Hello World!\n"
     ]
    }
   ],
   "source": [
    "print('Hello World!')"
   ]
  },
  {
   "cell_type": "markdown",
   "metadata": {},
   "source": [
    "# Comments\n",
    "\n",
    "Every thing after a `#` will be commented out and will not considered by interpreter.\n",
    "\n",
    "You can even use strings as a comment."
   ]
  },
  {
   "cell_type": "code",
   "execution_count": 2,
   "metadata": {},
   "outputs": [
    {
     "name": "stdout",
     "output_type": "stream",
     "text": [
      "Hello World!\n"
     ]
    },
    {
     "data": {
      "text/plain": [
       "'\\nThis is a comment with a little diference.\\nThis one is a multiline comment.\\n'"
      ]
     },
     "execution_count": 2,
     "metadata": {},
     "output_type": "execute_result"
    }
   ],
   "source": [
    "# This a comment\n",
    "print('Hello World!')  # This is a comment too. Be aware of two spaces before #.\n",
    "\"This is a comment too!\"\n",
    "\"\"\"\n",
    "This is a comment with a little diference.\n",
    "This one is a multiline comment.\n",
    "\"\"\""
   ]
  },
  {
   "cell_type": "markdown",
   "metadata": {},
   "source": [
    "# PEP8\n",
    "\n",
    "Python enhancement proposal documents are about everything that apply to python. New features, community input on an issue, ... . Probably the most famous and useful one for us, is PEP8.\n",
    "\n",
    "Development is not single handed anymore, it's a social effort. Groups of many people try to write a code for a same software. PEP8 helps for readability of code for reusing by other people.\n",
    "\n",
    "Most imporant ones:\n",
    "\n",
    "* Indentations are 4 spaces.\n",
    "* Maximum line length is 80 or 120.\n",
    "* Break long line before operators.\n",
    "\n",
    "```python\n",
    "# Yes: easy to match operators with operands\n",
    "income = (gross_wages\n",
    "          + taxable_interest\n",
    "          + (dividends - qualified_dividends)\n",
    "          - ira_deduction\n",
    "          - student_loan_interest)\n",
    "```\n",
    "\n",
    "* Surround top-level function and class definitions with two blank lines.\n",
    "* Method definitions inside a class are surrounded by a single blank line.\n",
    "* Use seperate imports.\n",
    "\n",
    "```python\n",
    "# This is good\n",
    "import os\n",
    "import sys\n",
    "\n",
    "# This is bad\n",
    "import os, sys\n",
    "```\n",
    "\n",
    "* Whitespaces in Expressions and Statements.\n",
    "\n",
    "```python\n",
    "# This is good\n",
    "spam(ham[1], {eggs: 2})\n",
    "foo = (0,)\n",
    "if x == 4: print x, y; x, y = y, x\n",
    "\n",
    "# This is bad\n",
    "spam( ham[ 1 ], { eggs: 2 } )\n",
    "bar = (0, )\n",
    "if x == 4 : print x , y ; x , y = y , x\n",
    "\n",
    "# This is good\n",
    "ham[1:9], ham[1:9:3], ham[:9:3], ham[1::3], ham[1:9:]\n",
    "ham[lower:upper], ham[lower:upper:], ham[lower::step]\n",
    "ham[lower+offset : upper+offset]\n",
    "ham[: upper_fn(x) : step_fn(x)], ham[:: step_fn(x)]\n",
    "ham[lower + offset : upper + offset]\n",
    "\n",
    "# This is bad\n",
    "ham[lower + offset:upper + offset]\n",
    "ham[1: 9], ham[1 :9], ham[1:9 :3]\n",
    "ham[lower : : upper]\n",
    "ham[ : upper]\n",
    "```\n",
    "\n",
    "* Naming Conventions:\n",
    "    * Modules should have short, all-lowercase, underscore (readability) separated names.\n",
    "    * Packages should have short, all-lowercase names. Underscore are discouraged.\n",
    "    * Class names follows CapWords convention.\n",
    "    * Functions should have short, all-lowercase, underscore (readability) separated names.\n",
    "    * Methods arguments:\n",
    "        * Always use `self` and `cls`.\n",
    "        * Group related function by one more blank line between each group.\n",
    "    * Contants should have all-uppercase, underscore (readability) separated names.\n",
    "    * Variables should have short, all-lowercase, underscore (readability) separated names."
   ]
  },
  {
   "cell_type": "markdown",
   "metadata": {},
   "source": [
    "# Numbers and Mathematics\n",
    "\n",
    "Python have **infinite integers**, **booleans**, **floating points**, ... for representing numbers."
   ]
  },
  {
   "cell_type": "markdown",
   "metadata": {},
   "source": [
    "## Arithmetics\n",
    "\n",
    "These operators are use for arithmetic purposes. Some of them have more priority upon others."
   ]
  },
  {
   "cell_type": "code",
   "execution_count": 3,
   "metadata": {},
   "outputs": [
    {
     "name": "stdout",
     "output_type": "stream",
     "text": [
      "2 ** 4:  16\n",
      "5 * 6:   30\n",
      "4 / 5:   0.8\n",
      "10 // 3: 3\n",
      "25 % 7:  4\n",
      "23 + 45: 68\n",
      "21 - 8:  13\n",
      "number:  12\n"
     ]
    }
   ],
   "source": [
    "# Arithmetic operators. Upper operators group have higher priority.\n",
    "# Operators under a group have same priority. To calculate them, leftmost operator have higher priority.\n",
    "\n",
    "print(\"2 ** 4:  {}\".format(2 ** 4))   # Power operator\n",
    "\n",
    "print(\"5 * 6:   {}\".format(5 * 6))    # Multiplication operator\n",
    "print(\"4 / 5:   {}\".format(4 / 5))    # Real division operator\n",
    "print(\"10 // 3: {}\".format(10 // 3))  # Integer division operator\n",
    "print(\"25 % 7:  {}\".format(25 % 7))   # Reminder operator\n",
    "\n",
    "print(\"23 + 45: {}\".format(23 + 45))  # Addition operator\n",
    "print(\"21 - 8:  {}\".format(21 - 8))   # Subtraction operator\n",
    "\n",
    "number = 12     # Assignment operator\n",
    "print(\"number:  {}\".format(number))"
   ]
  },
  {
   "cell_type": "code",
   "execution_count": 4,
   "metadata": {},
   "outputs": [
    {
     "name": "stdout",
     "output_type": "stream",
     "text": [
      "num_1: 48, num_2: 312\n"
     ]
    }
   ],
   "source": [
    "# By using parentheses you can change order of operators.\n",
    "\n",
    "num_1 =  24 + 2  * 12\n",
    "num_2 = (24 + 2) * 12\n",
    "print(\"num_1: {}, num_2: {}\".format(num_1, num_2))"
   ]
  },
  {
   "cell_type": "code",
   "execution_count": 5,
   "metadata": {
    "collapsed": true
   },
   "outputs": [],
   "source": [
    "# What number is save in x?\n",
    "x = 5 // 3 + 2 ** 3 / 4 * 5 % 7"
   ]
  },
  {
   "cell_type": "markdown",
   "metadata": {},
   "source": [
    "# Variables and Naming\n",
    "\n",
    "Variables are **labeled places** that you can save some data in it. We use **all lowercase underscore separated** alphabets and numbers for variables. Never start a variable with a number. Python names are **case sensitive**."
   ]
  },
  {
   "cell_type": "code",
   "execution_count": 6,
   "metadata": {},
   "outputs": [
    {
     "name": "stdout",
     "output_type": "stream",
     "text": [
      "Johnny Depp\n"
     ]
    }
   ],
   "source": [
    "my_name = \"Johnny Depp\"\n",
    "print(my_name)"
   ]
  },
  {
   "cell_type": "markdown",
   "metadata": {},
   "source": [
    "## Reserved Words\n",
    "\n",
    "They have special meaning for python, so never use reserved words for variable, function, class, ... names!\n",
    "\n",
    "```python\n",
    "from import as\n",
    "True False\n",
    "None\n",
    "and or not\n",
    "try except finally else raise assert\n",
    "while for break continue else in\n",
    "class\n",
    "def lambda return yield\n",
    "global nonlocal\n",
    "del\n",
    "if elif else pass is in\n",
    "with\n",
    "```"
   ]
  },
  {
   "cell_type": "markdown",
   "metadata": {},
   "source": [
    "## Readability\n",
    "\n",
    "There is a technique called **mnemonic**. It's about variables name that you choose. They should be **short**, **simple** and **sensible**. Variables names doesn't have any influence on how python execute your code, but it is very important for who wants to read your code!\n",
    "\n",
    "These three codes are the same thing to python. Python doesn't care about the meaning of your variables (Remember the fast, stupid calculator). It is just doing what we tell to do."
   ]
  },
  {
   "cell_type": "code",
   "execution_count": 7,
   "metadata": {},
   "outputs": [
    {
     "name": "stdout",
     "output_type": "stream",
     "text": [
      "437.5\n",
      "437.5\n",
      "437.5\n"
     ]
    }
   ],
   "source": [
    "# VERY VERY bad code!\n",
    "hqpowiefhpqowi = 35.0\n",
    "poiwhgpoiqf = 12.5\n",
    "poiwhzpoiqf = hqpowiefhpqowi * poiwhgpoiqf\n",
    "print(poiwhzpoiqf)\n",
    "\n",
    "# Better, but it is not mnemonic.\n",
    "a = 35.0\n",
    "b = 12.5\n",
    "c = a * b\n",
    "print(c)\n",
    "\n",
    "# Mnemonic code. You can understand it's purpose.\n",
    "worked_hours = 35.0\n",
    "pay_rate = 12.5\n",
    "pay = worked_hours * pay_rate\n",
    "print(pay)"
   ]
  },
  {
   "cell_type": "markdown",
   "metadata": {},
   "source": [
    "# Strings & Bytes"
   ]
  },
  {
   "cell_type": "markdown",
   "metadata": {},
   "source": [
    "## Escape Sequences"
   ]
  },
  {
   "cell_type": "markdown",
   "metadata": {},
   "source": [
    "## Input from user"
   ]
  },
  {
   "cell_type": "markdown",
   "metadata": {},
   "source": [
    "## Indexing and Slicing"
   ]
  },
  {
   "cell_type": "markdown",
   "metadata": {},
   "source": [
    "## `in` Operator"
   ]
  },
  {
   "cell_type": "markdown",
   "metadata": {},
   "source": [
    "# Lists\n",
    "`append`, `del`, `len()`"
   ]
  },
  {
   "cell_type": "markdown",
   "metadata": {},
   "source": [
    "## Packing & Unpacking"
   ]
  },
  {
   "cell_type": "markdown",
   "metadata": {},
   "source": [
    "# Tuples\n",
    "\n",
    "Frozen Lists."
   ]
  },
  {
   "cell_type": "markdown",
   "metadata": {},
   "source": [
    "# Dictionaries"
   ]
  },
  {
   "cell_type": "markdown",
   "metadata": {},
   "source": [
    "## Comprehensions"
   ]
  },
  {
   "cell_type": "markdown",
   "metadata": {},
   "source": [
    "# Set"
   ]
  },
  {
   "cell_type": "markdown",
   "metadata": {},
   "source": [
    "## Comprehensions"
   ]
  },
  {
   "cell_type": "markdown",
   "metadata": {},
   "source": [
    "# Conversion"
   ]
  },
  {
   "cell_type": "markdown",
   "metadata": {},
   "source": [
    "## Mutable Vs. Immutable\n",
    "`id()`"
   ]
  },
  {
   "cell_type": "markdown",
   "metadata": {},
   "source": [
    "# Decision Making\n",
    "    1. if, elif, else\n",
    "    2. <, <=, >, >=, ==, !=\n",
    "    2. VALUE_1 if CONDITION else VALUE_2\n",
    "    3. Use `is` and `is not` instead of `==` for `True` and `False` comparison.\n",
    "    2. True, False, and, or, not\n",
    "        1. Use `is` for readability\n",
    "    3. Binary operators"
   ]
  },
  {
   "cell_type": "markdown",
   "metadata": {},
   "source": [
    "# Loops\n",
    "    1. for\n",
    "        1. `range`\n",
    "    2. while\n",
    "    3. break\n",
    "    4. continue\n",
    "    5. Comprehensions\n",
    "    5. `__iter__()` and `__next__()` with `StopIteration` exception\n",
    "    6. `zip()`\n",
    "    7. `map()`\n",
    "    8. `filter()`\n",
    "    9. nesting"
   ]
  },
  {
   "cell_type": "markdown",
   "metadata": {},
   "source": [
    "# Functions\n",
    "\n",
    "Functions can make coding easy. Splitting tasks and write them once. Improve readability."
   ]
  },
  {
   "cell_type": "markdown",
   "metadata": {},
   "source": [
    "## Don't Repeat Yourself (DRY)"
   ]
  },
  {
   "cell_type": "markdown",
   "metadata": {},
   "source": [
    "## Parameters\n",
    "* Passed by Reference (mutable) & Value (immutable)\n",
    "* Positional argument\n",
    "* Keyword argument\n",
    "* Default values (becareful with default mutables!)\n",
    "* Variable positional arguments\n",
    "* Variable keyword arguments\n",
    "* Keyword only arguments"
   ]
  },
  {
   "cell_type": "markdown",
   "metadata": {},
   "source": [
    "## Return"
   ]
  },
  {
   "cell_type": "markdown",
   "metadata": {},
   "source": [
    "## Scope\n",
    "\n",
    "`if`, `elif`, `else`, `for`, `while` is current scope.\n",
    "Function are new scope."
   ]
  },
  {
   "cell_type": "markdown",
   "metadata": {},
   "source": [
    "## Documentation\n",
    "\n",
    "PEP257 - Docstring conventions. Sphinx is use to generate python documentation."
   ]
  },
  {
   "cell_type": "markdown",
   "metadata": {},
   "source": [
    "## global & nonlocal"
   ]
  },
  {
   "cell_type": "markdown",
   "metadata": {},
   "source": [
    "## lambda"
   ]
  },
  {
   "cell_type": "markdown",
   "metadata": {},
   "source": [
    "## pass"
   ]
  },
  {
   "cell_type": "markdown",
   "metadata": {},
   "source": [
    "## Recursive Functions\n",
    "\n",
    "```python\n",
    "def factorial(n):\n",
    "    if n == 0:\n",
    "        return 1\n",
    "    return factorial(n - 1) * n\n",
    "```"
   ]
  },
  {
   "cell_type": "markdown",
   "metadata": {},
   "source": [
    "## Useful Tips\n",
    "* Functions should do one thing.\n",
    "* Functions should be small.\n",
    "* The fewer input parameters, the better.\n",
    "* Functions should be consistent in their return values.\n",
    "Functions shouldn't have side effects."
   ]
  },
  {
   "cell_type": "markdown",
   "metadata": {},
   "source": [
    "# Files\n",
    "    1. Reading\n",
    "    2. Writing\n",
    "    3. Appending\n",
    "    4. Binary mode\n",
    "    5. General Strings\n",
    "10. Modules and Packages\n",
    "    1. Don't Repeat Yourself (DRY)\n",
    "    1. Importing other modules\n",
    "    2. Creating other modules\n",
    "10. Exceptions\n",
    "    1. raise\n",
    "    1. try\n",
    "    1. except\n",
    "    1. finally\n",
    "    4. assert"
   ]
  },
  {
   "cell_type": "markdown",
   "metadata": {},
   "source": [
    "# Object Oriented Programming\n",
    "\n",
    "Good for easy code designing, reusability and readability.\n",
    "\n",
    "Concepts:\n",
    "* Objects\n",
    "    * State\n",
    "    * Behavior\n",
    "* Class\n",
    "    * Attributes\n",
    "    * Methods\n",
    "* Instances\n",
    "\n",
    "Simplest python class:  "
   ]
  },
  {
   "cell_type": "code",
   "execution_count": 8,
   "metadata": {
    "collapsed": true
   },
   "outputs": [],
   "source": [
    "# A Class (code blueprints) that represent an Object (real world concepts).\n",
    "class simple:\n",
    "    pass\n",
    "\n",
    "# Creating an Instance of the object.\n",
    "simple_var = simple()"
   ]
  },
  {
   "cell_type": "markdown",
   "metadata": {},
   "source": [
    "## Class Attributes"
   ]
  },
  {
   "cell_type": "code",
   "execution_count": 9,
   "metadata": {},
   "outputs": [
    {
     "name": "stdout",
     "output_type": "stream",
     "text": [
      "4\n"
     ]
    }
   ],
   "source": [
    "class Car:\n",
    "    number_of_wheels = 4\n",
    "\n",
    "# It's defined withing the structures of our class.\n",
    "print(Car.number_of_wheels)"
   ]
  },
  {
   "cell_type": "code",
   "execution_count": 10,
   "metadata": {},
   "outputs": [
    {
     "name": "stdout",
     "output_type": "stream",
     "text": [
      "4\n"
     ]
    }
   ],
   "source": [
    "# Each instance can see it from the class.\n",
    "simple_car = Car()\n",
    "print(simple_car.number_of_wheels)"
   ]
  },
  {
   "cell_type": "code",
   "execution_count": 11,
   "metadata": {},
   "outputs": [
    {
     "name": "stdout",
     "output_type": "stream",
     "text": [
      "3\n",
      "3\n"
     ]
    }
   ],
   "source": [
    "# Class attributes updates through all instances.\n",
    "Car.number_of_wheels = 3\n",
    "not_so_simple_car = Car()\n",
    "print(not_so_simple_car.number_of_wheels)\n",
    "print(simple_car.number_of_wheels)"
   ]
  },
  {
   "cell_type": "markdown",
   "metadata": {},
   "source": [
    "Class attribute can have shadows for each object instances."
   ]
  },
  {
   "cell_type": "code",
   "execution_count": 12,
   "metadata": {},
   "outputs": [
    {
     "name": "stdout",
     "output_type": "stream",
     "text": [
      "4\n",
      "18\n"
     ]
    }
   ],
   "source": [
    "class Car:\n",
    "    number_of_wheels = 4\n",
    "\n",
    "strange_car = Car()\n",
    "\n",
    "# Altering class attribute through instances make specific class attribute values for them.\n",
    "strange_car.number_of_wheels = 18\n",
    "print(Car.number_of_wheels)\n",
    "print(strange_car.number_of_wheels)"
   ]
  },
  {
   "cell_type": "code",
   "execution_count": 13,
   "metadata": {},
   "outputs": [
    {
     "name": "stdout",
     "output_type": "stream",
     "text": [
      "18\n"
     ]
    }
   ],
   "source": [
    "# But it will break updated through class structure.\n",
    "Car.number_of_wheels = 3\n",
    "print(strange_car.number_of_wheels)"
   ]
  },
  {
   "cell_type": "code",
   "execution_count": 14,
   "metadata": {},
   "outputs": [
    {
     "name": "stdout",
     "output_type": "stream",
     "text": [
      "3\n"
     ]
    }
   ],
   "source": [
    "# Don't panic, you can bind your instance to your class again.\n",
    "del strange_car.number_of_wheels\n",
    "print(strange_car.number_of_wheels)"
   ]
  },
  {
   "cell_type": "markdown",
   "metadata": {},
   "source": [
    "## Access to Instance\n",
    "\n",
    "Each method in a class have a default first argument that is not passed by what we code."
   ]
  },
  {
   "cell_type": "code",
   "execution_count": 15,
   "metadata": {},
   "outputs": [
    {
     "name": "stdout",
     "output_type": "stream",
     "text": [
      "David\n"
     ]
    }
   ],
   "source": [
    "class Person:\n",
    "    name = 'Nobody'\n",
    "    def print_name(self):\n",
    "        print(self.name)\n",
    "\n",
    "david = Person()\n",
    "david.name = 'David'\n",
    "david.print_name()"
   ]
  },
  {
   "cell_type": "markdown",
   "metadata": {},
   "source": [
    "Now that we can access instances, we can define instance attributes."
   ]
  },
  {
   "cell_type": "code",
   "execution_count": 16,
   "metadata": {},
   "outputs": [
    {
     "name": "stdout",
     "output_type": "stream",
     "text": [
      "('Bod', 1992)\n"
     ]
    }
   ],
   "source": [
    "class Person:\n",
    "    def set(self, name, age):\n",
    "        self.name = name\n",
    "        self.birth_year = 2017 - age\n",
    "    \n",
    "    def get(self):\n",
    "        return self.name, self.birth_year\n",
    "\n",
    "bob = Person()\n",
    "bob.set(name='Bod', age=25)\n",
    "print(bob.get())"
   ]
  },
  {
   "cell_type": "markdown",
   "metadata": {},
   "source": [
    "## Special Methods\n",
    "\n",
    "These methods have specific name and specific job. They have names that starts and ends with `__`\n",
    "\n",
    "When we are creating an instance, `__init__` is the very first method that get called automatically."
   ]
  },
  {
   "cell_type": "code",
   "execution_count": 17,
   "metadata": {},
   "outputs": [
    {
     "name": "stdout",
     "output_type": "stream",
     "text": [
      "('Alice', 21)\n"
     ]
    }
   ],
   "source": [
    "class Person:\n",
    "    def __init__(self, name, age):\n",
    "        self.name, self.age = name, age\n",
    "\n",
    "    def get(self):\n",
    "        return self.name, self.age\n",
    "\n",
    "alice = Person('Alice', 21)\n",
    "print(alice.get())"
   ]
  },
  {
   "cell_type": "markdown",
   "metadata": {},
   "source": [
    "### Operator Overloading\n",
    "\n",
    "Some of these special methods have is use by built-in operator like `len` function. By writing right special methods you can overload those behaviours."
   ]
  },
  {
   "cell_type": "code",
   "execution_count": 18,
   "metadata": {},
   "outputs": [
    {
     "name": "stdout",
     "output_type": "stream",
     "text": [
      "22\n"
     ]
    }
   ],
   "source": [
    "class Person:\n",
    "    def __init__(self, name, age):\n",
    "        self.name, self.age = name, age\n",
    "        \n",
    "    def __len__(self):\n",
    "        return self.age\n",
    "\n",
    "me = Person('Amir', 22)\n",
    "print(len(me))"
   ]
  },
  {
   "cell_type": "markdown",
   "metadata": {},
   "source": [
    "You can find all information on special methods in [Here](http://www.diveintopython3.net/special-method-names.html)."
   ]
  },
  {
   "cell_type": "markdown",
   "metadata": {},
   "source": [
    "## Static Methods\n",
    "\n",
    "Normal methods need an instance to do operation on it. Static methods on the other hand get called from class name. In this way you can categorize your function under a title."
   ]
  },
  {
   "cell_type": "code",
   "execution_count": 19,
   "metadata": {},
   "outputs": [
    {
     "name": "stdout",
     "output_type": "stream",
     "text": [
      "['', 'a', 'ba', 'aa', 'aba', 'cba', 'aaa']\n",
      "[True, True, True, True, True, True, True, False, False]\n",
      "{'want', 'get', 'unique', 'so', 'you', 'What', 'what', 'is', 'word,', 'should', 'want!'}\n"
     ]
    }
   ],
   "source": [
    "class String:\n",
    "    @staticmethod\n",
    "    def reverse(string):\n",
    "        return string[::-1]\n",
    "    \n",
    "    @staticmethod\n",
    "    def is_upper_lower(string):\n",
    "        \"\"\"Checks for strings like ``, `A`, `a`, `Aa`, `aA`, `AaA`, `aAa`, ... .\"\"\"\n",
    "        last_upper, last_lower = False, False\n",
    "        for character in string:\n",
    "            if not last_upper and not last_lower:\n",
    "                if character.isupper():\n",
    "                    last_upper = True\n",
    "                else:\n",
    "                    last_lower = True\n",
    "            else:\n",
    "                if last_upper and not last_lower and character.islower():\n",
    "                    last_upper, last_lower = False, True\n",
    "                elif not last_upper and last_lower and character.isupper():\n",
    "                    last_upper, last_lower = True, False\n",
    "                elif (last_upper and last_lower) or (not last_upper and not last_lower):\n",
    "                    raise Exception(\"There is bug in the code! last_upper: {} and last_lower: {}\"\n",
    "                                    .format(last_upper, last_lower))\n",
    "                else:\n",
    "                    return False\n",
    "        return True\n",
    "    \n",
    "    def unique_words(string, case_sensitive=False):\n",
    "        return set([s if case_sensitive else s.lower() for s in string.split()])\n",
    "\n",
    "print(list(map(String.reverse, ['', 'a', 'ab', 'aa', 'aba', 'abc', 'aaa'])))\n",
    "print(list(map(String.is_upper_lower, ['', 'a', 'A', 'aA', 'Aa', 'aAa', 'AaA', 'ab', 'AB'])))\n",
    "print(String.unique_words('What you want is unique word, so you should get what you want!', True))"
   ]
  },
  {
   "cell_type": "markdown",
   "metadata": {},
   "source": [
    "## Class Methods\n",
    "\n",
    "They are special creators. In some ways they are like `__init__`. They create an instance. The first parameter of a class method is always class itself."
   ]
  },
  {
   "cell_type": "code",
   "execution_count": 20,
   "metadata": {},
   "outputs": [
    {
     "name": "stdout",
     "output_type": "stream",
     "text": [
      "Temperature in celsius is 15.00°C.\n",
      "Temperature in celsius is 37.00°C.\n",
      "Temperature in celsius is 26.85°C.\n"
     ]
    }
   ],
   "source": [
    "class Celsius:\n",
    "    def __init__(self, temperature):\n",
    "        self.temperature = temperature\n",
    "    \n",
    "    @classmethod\n",
    "    def from_fahrenheit(cls, fahrenheit):\n",
    "        return cls((fahrenheit - 32) * 5 / 9)\n",
    "    \n",
    "    @classmethod\n",
    "    def from_kelvin(cls, kelvin):\n",
    "        return cls(kelvin - 273.15)\n",
    "    \n",
    "    def __str__(self):\n",
    "        return \"Temperature in celsius is {:0.2f}°C.\".format(self.temperature)\n",
    "\n",
    "print(Celsius(15))\n",
    "print(Celsius.from_fahrenheit(98.6))\n",
    "print(Celsius.from_kelvin(300))"
   ]
  },
  {
   "cell_type": "markdown",
   "metadata": {},
   "source": [
    "If you have mutiple static methods and use some of in other ones, you have to hardcode the class name. This is not so good, we have so make changes as small as possible when class name is going to change. Another usage of class methods are for this problem."
   ]
  },
  {
   "cell_type": "code",
   "execution_count": 21,
   "metadata": {},
   "outputs": [
    {
     "name": "stdout",
     "output_type": "stream",
     "text": [
      "True\n",
      "False\n"
     ]
    }
   ],
   "source": [
    "class String:\n",
    "    @classmethod\n",
    "    def is_palindrome(cls, string, case_insensitive=True):\n",
    "        string = cls._strip_string(string)\n",
    "        \n",
    "        # For case insensitive comparison, we lower-case string\n",
    "        if case_insensitive:\n",
    "            string = string.lower()\n",
    "            \n",
    "        return cls._is_palindrome(string)\n",
    "    \n",
    "    @staticmethod\n",
    "    def _strip_string(string):\n",
    "        return ''.join(c for c in string if c.isalnum())\n",
    "    \n",
    "    @staticmethod\n",
    "    def _is_palindrome(string):\n",
    "        for c in range(len(string) // 2):\n",
    "            if string[c] != string[-c -1]:\n",
    "                return False\n",
    "        return True\n",
    "    \n",
    "    @staticmethod\n",
    "    def get_unique_words(string):\n",
    "        return set(string.split())\n",
    "\n",
    "print(String.is_palindrome('A nut for a jar of tuna')) # True\n",
    "print(String.is_palindrome('A nut for a jar of beans')) # False"
   ]
  },
  {
   "cell_type": "markdown",
   "metadata": {},
   "source": [
    "## Inheritance & Composition\n",
    "\n",
    "Main purpose of OOP is reusing existing codes. Inheritance (is-a relationship) and composition (has-a relationship) are\n",
    "two main ways to reuse code."
   ]
  },
  {
   "cell_type": "code",
   "execution_count": 22,
   "metadata": {},
   "outputs": [
    {
     "data": {
      "text/plain": [
       "'Engine started.'"
      ]
     },
     "execution_count": 22,
     "metadata": {},
     "output_type": "execute_result"
    }
   ],
   "source": [
    "class Engine:  # Base class, Parent class\n",
    "    def start(self):\n",
    "        return 'Engine started.'\n",
    "\n",
    "    def stop(self):\n",
    "        return 'Engine stopped.'\n",
    "\n",
    "class Car:\n",
    "    def __init__(self):\n",
    "        self.engine = Engine()  # Composition\n",
    "\n",
    "class MechanicalEngine(Engine):  # Inheritance\n",
    "    def __init__(self):\n",
    "        self.max_speed = 120\n",
    "\n",
    "# Above, Engine is called Parent, Base class and MechanicalEngine is called Child, Derived class.\n",
    "\n",
    "motorcycle_engine = MechanicalEngine()\n",
    "motorcycle_engine.start()  # MechanicalEngine class inherits attributes and methods of Engine class."
   ]
  },
  {
   "cell_type": "markdown",
   "metadata": {},
   "source": [
    "### Overwriting Methods\n",
    "\n",
    "If you overwrite a method of parent class, the functionality of that method from parent class is gone."
   ]
  },
  {
   "cell_type": "code",
   "execution_count": 23,
   "metadata": {},
   "outputs": [
    {
     "name": "stdout",
     "output_type": "stream",
     "text": [
      "Title: Alice in Wonderlang, Author: Lewis Carroll, Online ID: 1298\n"
     ]
    }
   ],
   "source": [
    "class Book:\n",
    "    def __init__(self, title, author):\n",
    "        self.title, self.author = title, author\n",
    "    \n",
    "    def get_info(self):\n",
    "        return \"Title: {}, Author: {}\".format(self.title, self.author)\n",
    "\n",
    "class EBook(Book):\n",
    "    def __init__(self, title, author, online_id):\n",
    "        # Not so good way! What if Book init changes? What if we didn't know Book init?\n",
    "        self.title, self.author, self.online_id = title, author, online_id\n",
    "\n",
    "        # Better solution BUT, what Book is not the only one we inherits? What if we\n",
    "        # wanted to change Book to Article?\n",
    "#         Book.__init__(self, title, author)\n",
    "#         self.online_id = online_id\n",
    "        \n",
    "        # Best solution!\n",
    "#         super().__init__(title, author)\n",
    "#         self.online_id = online_id\n",
    "    \n",
    "    def get_info(self):\n",
    "        book_info = super().get_info()\n",
    "        return \"{}, Online ID: {}\".format(book_info, self.online_id)\n",
    "\n",
    "alice_in_wonderland = EBook('Alice in Wonderlang', 'Lewis Carroll', 1298)\n",
    "print(alice_in_wonderland.get_info())"
   ]
  },
  {
   "cell_type": "markdown",
   "metadata": {},
   "source": [
    "### Multiple Inheritance & Method Resolution Order\n",
    "\n",
    "Put names, comma seperated, and know that order of them matters (diamond problem)!\n",
    "\n",
    "As the following code shows, MRO like our class then parents of our class then grandparents of out class and so on."
   ]
  },
  {
   "cell_type": "code",
   "execution_count": 24,
   "metadata": {},
   "outputs": [
    {
     "name": "stdout",
     "output_type": "stream",
     "text": [
      "Area of our square is: 100 and Tag is: Rhombus\n"
     ]
    }
   ],
   "source": [
    "import math\n",
    "\n",
    "class Shape:\n",
    "    tag = 'Shape'\n",
    "    \n",
    "    def area():\n",
    "        return 0\n",
    "\n",
    "class Rectangle(Shape):\n",
    "#     tag = 'Rectangle'\n",
    "    \n",
    "    def __init__(self, a, b):\n",
    "        self.a, self.b = a, b\n",
    "    \n",
    "    def area(self):\n",
    "        return self.a * self.b\n",
    "\n",
    "class Rhombus(Shape):\n",
    "    tag = 'Rhombus'\n",
    "    \n",
    "    def __init__(self, a, theta):\n",
    "        self.a, self.theta = a, theta\n",
    "    \n",
    "    def area(self):\n",
    "        return self.a * self.a * math.sin(self.theta)\n",
    "\n",
    "class Square(Rectangle, Rhombus):\n",
    "    def __init__(self, a):\n",
    "        # For Rectangle\n",
    "        super().__init__(a, a)\n",
    "        \n",
    "        # For Rhombus\n",
    "#         super().__init__(a, math.pi / 2)\n",
    "\n",
    "my_square = Square(10)\n",
    "print(\"Area of our square is: {} and Tag is: {}\".format(my_square.area(), my_square.tag))"
   ]
  },
  {
   "cell_type": "markdown",
   "metadata": {},
   "source": [
    "## Private and Public\n",
    "\n",
    "Every thing in python is public! And everyone working with it without a single problem. But there is an agreement on it.\n",
    "\n",
    "If you use a single underscore at the beginning of names you use, means this is used for the inner workings of your code and it is better not to manipulate it.\n",
    "\n",
    "If you use two or more underscore at the beginning and at most one underscore at end of names you use, means this is more special name that even child classes should not manipulate it."
   ]
  },
  {
   "cell_type": "code",
   "execution_count": 25,
   "metadata": {},
   "outputs": [
    {
     "name": "stdout",
     "output_type": "stream",
     "text": [
      "A Private: Private value from A, Sensitive: Sensitive value from A\n",
      "B Private: Private value from B, Sensitive: Sensitive value from B\n",
      "B also include A sensitive to A works find.\n",
      "A sensitive value in B: Sensitive value from A\n"
     ]
    }
   ],
   "source": [
    "class A:\n",
    "    def __init__(self):\n",
    "        self._private = 'Private value from A'\n",
    "        self.__sensitive = 'Sensitive value from A'\n",
    "\n",
    "class B(A):\n",
    "    def __init__(self):\n",
    "        super().__init__()\n",
    "        self._private = 'Private value from B'\n",
    "        self.__sensitive = 'Sensitive value from B'\n",
    "    \n",
    "    def how_to_change_private_values(self):\n",
    "        self.__sensitive = 'Use the name defined value with.'\n",
    "\n",
    "a, b = A(), B()\n",
    "\n",
    "print('A Private: {}, Sensitive: {}'.format(a._private, a._A__sensitive))\n",
    "print('B Private: {}, Sensitive: {}'.format(b._private, b._B__sensitive))\n",
    "print('B also include A sensitive to A works find.')\n",
    "print('A sensitive value in B: {}'.format(b._A__sensitive))"
   ]
  },
  {
   "cell_type": "markdown",
   "metadata": {},
   "source": [
    "### Name Mangling\n",
    "\n",
    "When you use two or more underscores at the beginning of a name, the actual name, that is reachable from outside class scope is mangled. Mangling is the process of adding class specific name to beginning of the name you defined. For example `__VARNAME` changes to `_CLASSNAME__VARNAME`."
   ]
  },
  {
   "cell_type": "markdown",
   "metadata": {},
   "source": [
    "## Useful Tips\n",
    "\n",
    "* Use `isinstance()` to find a varialble origins."
   ]
  },
  {
   "cell_type": "code",
   "execution_count": 26,
   "metadata": {},
   "outputs": [
    {
     "data": {
      "text/plain": [
       "True"
      ]
     },
     "execution_count": 26,
     "metadata": {},
     "output_type": "execute_result"
    }
   ],
   "source": [
    "isinstance(motorcycle_engine, MechanicalEngine)"
   ]
  },
  {
   "cell_type": "markdown",
   "metadata": {},
   "source": [
    "* Use `issubclass()` to find examine inheritance relation between to classes."
   ]
  },
  {
   "cell_type": "code",
   "execution_count": 27,
   "metadata": {},
   "outputs": [
    {
     "data": {
      "text/plain": [
       "(True, False)"
      ]
     },
     "execution_count": 27,
     "metadata": {},
     "output_type": "execute_result"
    }
   ],
   "source": [
    "issubclass(MechanicalEngine, Engine), issubclass(Engine, MechanicalEngine)"
   ]
  },
  {
   "cell_type": "markdown",
   "metadata": {},
   "source": [
    "* **Property decorators** are another thing to mention. They are like _setter_ and _getter_."
   ]
  },
  {
   "cell_type": "code",
   "execution_count": 28,
   "metadata": {},
   "outputs": [
    {
     "name": "stdout",
     "output_type": "stream",
     "text": [
      "Nikola Tesla\n",
      "Thomas Alva Edison\n"
     ]
    }
   ],
   "source": [
    "class Person:\n",
    "    def __init__(self, firstname, lastname):\n",
    "        self.__firstname = firstname\n",
    "        self.__lastname = lastname\n",
    "        \n",
    "    @property\n",
    "    def full_name(self):\n",
    "        return '{} {}'.format(self.__firstname, self.__lastname)\n",
    "    \n",
    "    @full_name.setter\n",
    "    def full_name(self, full_name):\n",
    "        fname_splited = full_name.split()\n",
    "        self.__firstname = fname_splited[0]\n",
    "        self.__lastname = ' '.join(fname_splited[1:])\n",
    "\n",
    "p = Person('Nikola', 'Tesla')\n",
    "print(p.full_name)\n",
    "p.full_name = 'Thomas Alva Edison'\n",
    "print(p.full_name)"
   ]
  },
  {
   "cell_type": "markdown",
   "metadata": {},
   "source": [
    "# Generators\n",
    "\n",
    "* `yield`\n",
    "* `yeild from`"
   ]
  },
  {
   "cell_type": "markdown",
   "metadata": {},
   "source": [
    "# Decorators\n",
    "\n",
    "Example: Decorator to calculate up execution time."
   ]
  },
  {
   "cell_type": "markdown",
   "metadata": {},
   "source": [
    "## Decorator Factory\n",
    "\n",
    "Homeworks:\n",
    "* Describing what some codes do.\n",
    "\n",
    "Notes to talk:\n",
    "* Printing structures and customization."
   ]
  },
  {
   "cell_type": "markdown",
   "metadata": {},
   "source": [
    "# PIP\n",
    "\n",
    "Python have libraries. `pip` is a program that can install and remove your packages. This a fast and safe way to get a python library for our projects."
   ]
  },
  {
   "cell_type": "markdown",
   "metadata": {},
   "source": [
    "## Virtualenv\n",
    "\n",
    "Consider situations like 2 projects with same dependencies of different versions. Like `pip`, `virtualenv`  helps you manage your packages but in different way."
   ]
  },
  {
   "cell_type": "markdown",
   "metadata": {},
   "source": [
    "### Installation\n",
    "\n",
    "```bash\n",
    "pip3 install virtualenv\n",
    "```"
   ]
  },
  {
   "cell_type": "markdown",
   "metadata": {},
   "source": [
    "### Usage\n",
    "\n",
    "```bash\n",
    "virtualenv .venv           # Creating python virtual environment\n",
    "source .venv/bin/activate  # Activating virtual environment\n",
    "deactivate                 # Deactivating virtual environment\n",
    "```"
   ]
  },
  {
   "cell_type": "markdown",
   "metadata": {},
   "source": [
    "# Examples:\n",
    "\n",
    "* Count unique words of a file and write a json about it to another file.\n",
    "* Prime number function.\n",
    "* Prime number generator.\n",
    "* Fibonacci number recursive function.\n",
    "* Fibonacci number generator.\n",
    "* Iterator object.\n",
    "* Web crawler."
   ]
  },
  {
   "cell_type": "markdown",
   "metadata": {},
   "source": [
    "# Project\n",
    "\n",
    "Now learning python syntax and usages is finished. Let us start our big project!\n",
    "\n",
    "The project is simple client chat. This applicatoin have 3 main parts.\n",
    "\n",
    "* Graphical User Interface\n",
    "* Network Programming\n",
    "* Database Management"
   ]
  },
  {
   "cell_type": "code",
   "execution_count": null,
   "metadata": {
    "collapsed": true
   },
   "outputs": [],
   "source": []
  }
 ],
 "metadata": {
  "kernelspec": {
   "display_name": "Python 3",
   "language": "python",
   "name": "python3"
  },
  "language_info": {
   "codemirror_mode": {
    "name": "ipython",
    "version": 3
   },
   "file_extension": ".py",
   "mimetype": "text/x-python",
   "name": "python",
   "nbconvert_exporter": "python",
   "pygments_lexer": "ipython3",
   "version": "3.5.2"
  }
 },
 "nbformat": 4,
 "nbformat_minor": 2
}
